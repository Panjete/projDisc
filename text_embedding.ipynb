{
 "cells": [
  {
   "cell_type": "code",
   "execution_count": 1,
   "metadata": {},
   "outputs": [],
   "source": [
    "import gensim\n",
    "import numpy as np\n",
    "import json \n",
    "caption_file = \"captions_200.json\"\n",
    "with open(caption_file, 'r') as f:\n",
    "    captions = json.load(f)\n",
    "\n",
    "# len(gensim.utils.simple_preprocess(\"\".join(captions.values()), min_len=4))\n",
    "total_doc = []\n",
    "for key in captions:\n",
    "    text = gensim.utils.simple_preprocess(captions[key])\n",
    "    total_doc.append(text)\n"
   ]
  },
  {
   "cell_type": "code",
   "execution_count": 2,
   "metadata": {},
   "outputs": [
    {
     "data": {
      "text/plain": [
       "(10729535, 16991280)"
      ]
     },
     "execution_count": 2,
     "metadata": {},
     "output_type": "execute_result"
    }
   ],
   "source": [
    "model = gensim.models.Word2Vec(\n",
    "        window=10,\n",
    "        min_count=2,\n",
    "        workers=4\n",
    "    )\n",
    "model.build_vocab(total_doc)\n",
    "model.train(total_doc, total_examples=model.corpus_count, epochs=20)\n"
   ]
  },
  {
   "cell_type": "code",
   "execution_count": 3,
   "metadata": {},
   "outputs": [],
   "source": [
    "import pickle\n",
    "\n",
    "with open('text_embedding_200.pkl', 'wb') as file:\n",
    "    pickle.dump(model, file)"
   ]
  },
  {
   "cell_type": "code",
   "execution_count": 35,
   "metadata": {},
   "outputs": [
    {
     "name": "stdout",
     "output_type": "stream",
     "text": [
      "[('sleeveless', 0.5869356989860535), ('shirt', 0.5621093511581421), ('hat', 0.48381856083869934), ('top', 0.28593480587005615), ('medium', 0.2671615183353424), ('short', 0.25188347697257996), ('no', 0.2510964870452881), ('tank', 0.24460361897945404), ('sleeve', 0.24083776772022247), ('with', 0.1875535398721695)]\n"
     ]
    }
   ],
   "source": [
    "def get_query_vector1(query, model):\n",
    "    new_query = gensim.utils.simple_preprocess(query)\n",
    "    query_vector = sum(model.wv[word] for word in new_query) / len(new_query)\n",
    "    return query_vector\n",
    "\n",
    "def get_query_vector2(query, model):\n",
    "    new_query = gensim.utils.simple_preprocess(query)\n",
    "\n",
    "    query_vector = np.zeros(model.vector_size)\n",
    "    for word in new_query:\n",
    "        vec = np.array(model.wv[word])\n",
    "        vec = vec/np.linalg.norm(vec)\n",
    "        query_vector += vec\n",
    "\n",
    "    query_vector =  query_vector / len(new_query)\n",
    "    return query_vector\n",
    "\n",
    "similar_words = model.wv.most_similar(positive=[get_query_vector2(\"sleeveless shirt hat\", model)], topn=10)\n",
    "print(similar_words)"
   ]
  },
  {
   "cell_type": "code",
   "execution_count": null,
   "metadata": {},
   "outputs": [],
   "source": []
  }
 ],
 "metadata": {
  "kernelspec": {
   "display_name": "Python 3",
   "language": "python",
   "name": "python3"
  },
  "language_info": {
   "codemirror_mode": {
    "name": "ipython",
    "version": 3
   },
   "file_extension": ".py",
   "mimetype": "text/x-python",
   "name": "python",
   "nbconvert_exporter": "python",
   "pygments_lexer": "ipython3",
   "version": "3.11.5"
  }
 },
 "nbformat": 4,
 "nbformat_minor": 2
}
